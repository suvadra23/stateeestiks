{
 "cells": [
  {
   "cell_type": "code",
   "execution_count": null,
   "id": "6d2984cb",
   "metadata": {},
   "outputs": [],
   "source": [
    "from statsmodels.stats.weightstats \n",
    "import ztest as ztest\n",
    "\n",
    "#enter IQ levels for 20 patients\n",
    "data = [88, 92, 94, 94, 96, 97, 97, 97, 99, 99,\n",
    "        105, 109, 109, 109, 110, 112, 112, 113, 114, 115]\n",
    "\n",
    "#perform one sample z-test\n",
    "ztest(data, value=100)"
   ]
  }
 ],
 "metadata": {
  "kernelspec": {
   "display_name": "Python 3",
   "language": "python",
   "name": "python3"
  },
  "language_info": {
   "codemirror_mode": {
    "name": "ipython",
    "version": 3
   },
   "file_extension": ".py",
   "mimetype": "text/x-python",
   "name": "python",
   "nbconvert_exporter": "python",
   "pygments_lexer": "ipython3",
   "version": "3.8.8"
  }
 },
 "nbformat": 4,
 "nbformat_minor": 5
}
