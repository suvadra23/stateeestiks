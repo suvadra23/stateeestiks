{
 "cells": [
  {
   "cell_type": "code",
   "execution_count": null,
   "id": "3736ac0a",
   "metadata": {},
   "outputs": [],
   "source": [
    "Two Sample Z-Test in Python\n",
    "Suppose the IQ levels among individuals in two different cities are known to be normally distributed with known standard deviations.\n",
    "A researcher wants to know if the mean IQ level between individuals in city A and city B are different, \n",
    "so she selects a simple random sample of  20 individuals from each city and records their IQ levels.\n",
    "\n",
    "The following code shows how to perform a two sample z-test in Python to determine if the mean IQ level is different between the two cities:\n",
    "\n",
    "from statsmodels.stats.weightstats import ztest as ztest\n",
    "\n",
    "#enter IQ levels for 20 individuals from each city\n",
    "cityA = [82, 84, 85, 89, 91, 91, 92, 94, 99, 99,\n",
    "         105, 109, 109, 109, 110, 112, 112, 113, 114, 114]\n",
    "\n",
    "cityB = [90, 91, 91, 91, 95, 95, 99, 99, 108, 109,\n",
    "         109, 114, 115, 116, 117, 117, 128, 129, 130, 133]\n",
    "\n",
    "#perform two sample z-test\n",
    "ztest(cityA, cityB, value=0) \n",
    "\n",
    "output\n",
    "(-1.9953236073282115, 0.046007596761332065)\n",
    "\n",
    "The test statistic for the two sample z-test is -1.9953 and the corresponding p-value is 0.0460.\n",
    "Since this p-value is less than .05, we have sufficient evidence to reject the null hypothesis. \n",
    "In other words, the mean IQ level is significantly different between the two cities."
   ]
  },
  {
   "cell_type": "code",
   "execution_count": 1,
   "id": "07278321",
   "metadata": {},
   "outputs": [
    {
     "data": {
      "text/plain": [
       "(-1.9953236073282115, 0.046007596761332065)"
      ]
     },
     "execution_count": 1,
     "metadata": {},
     "output_type": "execute_result"
    }
   ],
   "source": [
    "from statsmodels.stats.weightstats import ztest as ztest\n",
    "\n",
    "#enter IQ levels for 20 individuals from each city\n",
    "cityA = [82, 84, 85, 89, 91, 91, 92, 94, 99, 99,\n",
    "         105, 109, 109, 109, 110, 112, 112, 113, 114, 114]\n",
    "\n",
    "cityB = [90, 91, 91, 91, 95, 95, 99, 99, 108, 109,\n",
    "         109, 114, 115, 116, 117, 117, 128, 129, 130, 133]\n",
    "\n",
    "#perform two sample z-test\n",
    "ztest(cityA, cityB, value=0) "
   ]
  },
  {
   "cell_type": "code",
   "execution_count": null,
   "id": "8ce6a794",
   "metadata": {},
   "outputs": [],
   "source": []
  }
 ],
 "metadata": {
  "kernelspec": {
   "display_name": "Python 3",
   "language": "python",
   "name": "python3"
  },
  "language_info": {
   "codemirror_mode": {
    "name": "ipython",
    "version": 3
   },
   "file_extension": ".py",
   "mimetype": "text/x-python",
   "name": "python",
   "nbconvert_exporter": "python",
   "pygments_lexer": "ipython3",
   "version": "3.8.8"
  }
 },
 "nbformat": 4,
 "nbformat_minor": 5
}
